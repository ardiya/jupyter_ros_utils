{
 "cells": [
  {
   "cell_type": "markdown",
   "id": "0572b1ad",
   "metadata": {},
   "source": [
    "## Tutorial to use ros2 subscriber"
   ]
  },
  {
   "cell_type": "code",
   "execution_count": null,
   "id": "2fcad052-4631-493b-8dd9-3bf43539bd53",
   "metadata": {},
   "outputs": [],
   "source": [
    "! ../scripts/generate_cling_ros2.py ~/ros2_foxy/install"
   ]
  },
  {
   "cell_type": "code",
   "execution_count": null,
   "id": "a98ad41b-2fa0-426b-a086-6ea0c826b312",
   "metadata": {},
   "outputs": [],
   "source": [
    "#include \"load_ros2.h\""
   ]
  },
  {
   "cell_type": "code",
   "execution_count": null,
   "id": "a5d7c8ff-8ebe-45d6-8354-059e5a342036",
   "metadata": {},
   "outputs": [],
   "source": [
    "#include \"jupyter_ros_utils/ros2_jupyter.hpp\""
   ]
  },
  {
   "cell_type": "markdown",
   "id": "ceeb1ba4",
   "metadata": {},
   "source": [
    "### Start node"
   ]
  },
  {
   "cell_type": "code",
   "execution_count": null,
   "id": "a59ced7b-0510-4467-8ef1-33cc023f1d8b",
   "metadata": {},
   "outputs": [],
   "source": [
    "auto node = ros_init();  // For some reason, rclcpp::init after shutdown crashes the kernel"
   ]
  },
  {
   "cell_type": "code",
   "execution_count": null,
   "id": "a313dd25-7d57-44ae-b572-ef4db5891ebe",
   "metadata": {},
   "outputs": [],
   "source": [
    "rclcpp::ok()"
   ]
  },
  {
   "cell_type": "code",
   "execution_count": null,
   "id": "6474d3fd-e7a1-40b4-b293-1348116cba49",
   "metadata": {},
   "outputs": [],
   "source": [
    "!ros2 node list"
   ]
  },
  {
   "cell_type": "markdown",
   "id": "5e779ff6",
   "metadata": {},
   "source": [
    "### Subscriber"
   ]
  },
  {
   "cell_type": "code",
   "execution_count": null,
   "id": "6c925830-1387-4eac-986d-8235a65b24bb",
   "metadata": {},
   "outputs": [],
   "source": [
    "#include \"std_msgs/msg/string.hpp\"\n",
    "void topic_callback(const std_msgs::msg::String::SharedPtr msg)\n",
    "{\n",
    "  std::cout<<\"I heard: '\" << msg->data << \"'\\n\";\n",
    "}\n",
    "\n",
    "auto s = node->create_subscription<std_msgs::msg::String>(\"topic\", 10, topic_callback, true);\n",
    "// ROS2 needs s to be shut down, else it'll never go out of scope"
   ]
  },
  {
   "cell_type": "code",
   "execution_count": null,
   "id": "29b73144-279d-4bfc-b936-73493adc9a34",
   "metadata": {},
   "outputs": [],
   "source": [
    "!ros2 topic pub /topic std_msgs/msg/String \"data: sdfd\" -1  # without -1, the kernel kills ros2 node"
   ]
  },
  {
   "cell_type": "code",
   "execution_count": null,
   "id": "77bfb33b",
   "metadata": {},
   "outputs": [],
   "source": [
    "s.try_shutdown()"
   ]
  }
 ],
 "metadata": {
  "kernelspec": {
   "display_name": "C++17",
   "language": "C++17",
   "name": "xcpp17"
  },
  "language_info": {
   "codemirror_mode": "text/x-c++src",
   "file_extension": ".cpp",
   "mimetype": "text/x-c++src",
   "name": "c++",
   "version": "17"
  }
 },
 "nbformat": 4,
 "nbformat_minor": 5
}
