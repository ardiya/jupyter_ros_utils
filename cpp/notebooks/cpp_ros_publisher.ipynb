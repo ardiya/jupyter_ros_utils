{
 "cells": [
  {
   "cell_type": "code",
   "execution_count": null,
   "id": "e1d066d8",
   "metadata": {},
   "outputs": [],
   "source": [
    "! ../scripts/generate_cling_3rd_party.py roscpp"
   ]
  },
  {
   "cell_type": "code",
   "execution_count": null,
   "id": "04089009",
   "metadata": {},
   "outputs": [],
   "source": [
    "#include \"load_roscpp.h\""
   ]
  },
  {
   "cell_type": "markdown",
   "id": "1d3fd55b",
   "metadata": {},
   "source": [
    "Code below is taken from\n",
    "http://wiki.ros.org/ROS/Tutorials/WritingPublisherSubscriber%28c%2B%2B%29"
   ]
  },
  {
   "cell_type": "code",
   "execution_count": null,
   "id": "7073b3d9",
   "metadata": {},
   "outputs": [],
   "source": [
    "#include <ros/ros.h>\n",
    "#include <std_msgs/String.h>\n",
    "#include <cstring>\n",
    "#include <iostream>\n",
    "\n",
    "int argc = 1;\n",
    "char *argv[1];\n",
    "argv[0] = new char[9];\n",
    "strcpy(argv[0], \"talker\");\n",
    "ros::init(argc, argv, \"talker\");\n",
    "\n",
    "ros::NodeHandle n;\n",
    "std_msgs::String test_msg;\n",
    "ros::Publisher chatter_pub = n.advertise<std_msgs::String>(\"chatter\", 1000);\n",
    "ros::Rate loop_rate(10);\n",
    "\n",
    "int count = 0;\n",
    "while (ros::ok())\n",
    "{\n",
    "    std_msgs::String msg;\n",
    "    std::stringstream ss;\n",
    "    ss << \"hello world \" << count;\n",
    "    msg.data = ss.str();\n",
    "    ROS_INFO(\"%s\", msg.data.c_str());\n",
    "    std::cout << msg.data << std::endl;\n",
    "    chatter_pub.publish(msg);\n",
    "    ros::spinOnce();\n",
    "    loop_rate.sleep();\n",
    "    ++count;\n",
    "}\n"
   ]
  }
 ],
 "metadata": {
  "kernelspec": {
   "display_name": "C++17",
   "language": "C++17",
   "name": "xcpp17"
  },
  "language_info": {
   "codemirror_mode": "text/x-c++src",
   "file_extension": ".cpp",
   "mimetype": "text/x-c++src",
   "name": "c++",
   "version": "17"
  }
 },
 "nbformat": 4,
 "nbformat_minor": 5
}
