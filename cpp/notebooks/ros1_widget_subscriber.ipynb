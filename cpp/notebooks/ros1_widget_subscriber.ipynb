{
 "cells": [
  {
   "cell_type": "markdown",
   "id": "f11b455a",
   "metadata": {},
   "source": [
    "# The Tutorial shows demonstration of Asynchronous ROS Subscriber.\n",
    "\n"
   ]
  },
  {
   "cell_type": "markdown",
   "id": "67b2e9b0",
   "metadata": {},
   "source": [
    "### Step 1 - Get the required header files to run ROS\n",
    "\n",
    "NOTE :- Run roscore in on of the other terminal before starting the tutorial to start rosmaster."
   ]
  },
  {
   "cell_type": "code",
   "execution_count": null,
   "id": "ed60fae6-df8d-4df7-b2db-f3d5f68e7e88",
   "metadata": {},
   "outputs": [],
   "source": [
    "! python3 ../scripts/generate_cling_3rd_party.py roscpp"
   ]
  },
  {
   "cell_type": "markdown",
   "id": "c7638c6f",
   "metadata": {},
   "source": [
    "### Step 2 - Load ROS and Boost libraries."
   ]
  },
  {
   "cell_type": "code",
   "execution_count": null,
   "id": "4fac76ce-8c53-4469-b310-9da425cd9d17",
   "metadata": {},
   "outputs": [],
   "source": [
    "#include \"load_roscpp.h\""
   ]
  },
  {
   "cell_type": "markdown",
   "id": "5714cfb0",
   "metadata": {},
   "source": [
    "### Step 3 - Load ROS Subscriber."
   ]
  },
  {
   "cell_type": "code",
   "execution_count": null,
   "id": "430ece07-34fe-4c2b-aa72-5118a814bb4d",
   "metadata": {},
   "outputs": [],
   "source": [
    "#include \"jupyter_ros_utils/ros1_subscriber.hpp\""
   ]
  },
  {
   "cell_type": "markdown",
   "id": "514de179",
   "metadata": {},
   "source": [
    "### Step 4 - Initialize ROS Spinner and start subscriber."
   ]
  },
  {
   "cell_type": "code",
   "execution_count": null,
   "id": "7f5062d6-4b53-4575-a65d-3e5c09d0f7a7",
   "metadata": {},
   "outputs": [],
   "source": [
    "#include <std_msgs/String.h>\n",
    "\n",
    "void cb(const std_msgs::String& msg) {\n",
    "    std::cout << msg << \"\\n\";\n",
    "}\n",
    "\n",
    "// warning: don't run 2 subscribers on same topic at the same time\n",
    "ros_init(\"cpp_ros_async_subscriber\");\n",
    "ZeusSubscriber sub1(\"/magic/lol\", cb, true);"
   ]
  }
 ],
 "metadata": {
  "kernelspec": {
   "display_name": "C++17",
   "language": "C++17",
   "name": "xcpp17"
  },
  "language_info": {
   "codemirror_mode": "text/x-c++src",
   "file_extension": ".cpp",
   "mimetype": "text/x-c++src",
   "name": "c++",
   "version": "17"
  }
 },
 "nbformat": 4,
 "nbformat_minor": 5
}