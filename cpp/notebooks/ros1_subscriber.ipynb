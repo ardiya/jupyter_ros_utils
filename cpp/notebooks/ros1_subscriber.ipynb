{
 "cells": [
  {
   "cell_type": "code",
   "execution_count": null,
   "id": "e140b3aa",
   "metadata": {},
   "outputs": [],
   "source": [
    "! ../scripts/generate_cling_3rd_party.py roscpp"
   ]
  },
  {
   "cell_type": "code",
   "execution_count": null,
   "id": "36e4b217",
   "metadata": {},
   "outputs": [],
   "source": [
    "#include \"load_roscpp.h\""
   ]
  },
  {
   "cell_type": "markdown",
   "id": "a5bfc6eb",
   "metadata": {},
   "source": [
    "Code below is taken from\n",
    "http://wiki.ros.org/ROS/Tutorials/WritingPublisherSubscriber%28c%2B%2B%29"
   ]
  },
  {
   "cell_type": "code",
   "execution_count": null,
   "id": "76026d96",
   "metadata": {},
   "outputs": [],
   "source": [
    "#include <ros/ros.h>\n",
    "#include <std_msgs/String.h>\n",
    "#include <cstring>\n",
    "#include <iostream>\n",
    "\n",
    "int argc = 1;\n",
    "char *argv[1];\n",
    "argv[0] = new char[9];\n",
    "strncpy(argv[0],\"listener\", 9);\n",
    "ros::init(argc, argv, \"listener\");"
   ]
  },
  {
   "cell_type": "code",
   "execution_count": null,
   "id": "86131411",
   "metadata": {},
   "outputs": [],
   "source": [
    "void chatterCallback(const std_msgs::String::ConstPtr& msg)\n",
    "{\n",
    "    ROS_INFO(\"I heard: [%s]\", msg->data.c_str());\n",
    "    std::cout << \"I heard: [\" << msg->data << \"]\" << std::endl;;\n",
    "}"
   ]
  },
  {
   "cell_type": "code",
   "execution_count": null,
   "id": "5b0b9ec2",
   "metadata": {},
   "outputs": [],
   "source": [
    "ros::NodeHandle n;\n",
    "ros::Subscriber sub = n.subscribe(\"chatter\", 1000, chatterCallback);\n",
    "ros::spin();"
   ]
  }
 ],
 "metadata": {
  "kernelspec": {
   "display_name": "C++17",
   "language": "C++17",
   "name": "xcpp17"
  },
  "language_info": {
   "codemirror_mode": "text/x-c++src",
   "file_extension": ".cpp",
   "mimetype": "text/x-c++src",
   "name": "c++",
   "version": "17"
  }
 },
 "nbformat": 4,
 "nbformat_minor": 5
}
