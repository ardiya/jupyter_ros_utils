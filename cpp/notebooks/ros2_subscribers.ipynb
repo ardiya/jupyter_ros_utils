{
 "cells": [
  {
   "cell_type": "code",
   "execution_count": null,
   "id": "b9aee55e-f346-423e-9fd9-ac1fedaa9b3e",
   "metadata": {},
   "outputs": [],
   "source": [
    "! ../scripts/generate_cling_ros2.py ~/ros2_foxy/install"
   ]
  },
  {
   "cell_type": "code",
   "execution_count": null,
   "id": "649f51ab-b279-404d-b86f-fae965ca4645",
   "metadata": {},
   "outputs": [],
   "source": [
    "#include \"load_ros2.h\""
   ]
  },
  {
   "cell_type": "code",
   "execution_count": null,
   "id": "317d888a-751f-4260-bba1-ce6f70265661",
   "metadata": {},
   "outputs": [],
   "source": [
    "#include <chrono>\n",
    "#include <functional>\n",
    "#include <memory>\n",
    "#include <string>\n",
    "\n",
    "#include \"rclcpp/rclcpp.hpp\"\n",
    "#include \"std_msgs/msg/string.hpp\"\n",
    "\n",
    "using namespace std::chrono_literals;"
   ]
  },
  {
   "cell_type": "code",
   "execution_count": null,
   "id": "f5fb0b33-c0d7-41a6-9dd5-9b3084652569",
   "metadata": {},
   "outputs": [],
   "source": [
    "class MinimalSubscriber : public rclcpp::Node\n",
    "{\n",
    "  public:\n",
    "    MinimalSubscriber()\n",
    "    : Node(\"minimal_subscriber\")\n",
    "    {\n",
    "      subscription_ = this->create_subscription<std_msgs::msg::String>(\n",
    "      \"topic\", 10, std::bind(&MinimalSubscriber::topic_callback, this, std::placeholders::_1));\n",
    "    }\n",
    "\n",
    "  private:\n",
    "    void topic_callback(const std_msgs::msg::String::SharedPtr msg) const\n",
    "    {\n",
    "      RCLCPP_INFO(this->get_logger(), \"I heard: '%s'\", msg->data.c_str());\n",
    "    }\n",
    "    rclcpp::Subscription<std_msgs::msg::String>::SharedPtr subscription_;\n",
    "};\n"
   ]
  },
  {
   "cell_type": "code",
   "execution_count": null,
   "id": "5501a245-20ac-4efd-979f-f164fea027ff",
   "metadata": {},
   "outputs": [],
   "source": [
    "int argc = 1;\n",
    "char *argv[1];\n",
    "argv[0] = new char[10];\n",
    "strncpy(argv[0],\"subscriber\", 10);\n",
    "\n",
    "rclcpp::init(argc, argv);\n",
    "rclcpp::spin(std::make_shared<MinimalSubscriber>());\n",
    "rclcpp::shutdown();"
   ]
  },
  {
   "cell_type": "code",
   "execution_count": null,
   "id": "4fb8e16d-6065-42ee-8e15-9c73303e3b26",
   "metadata": {},
   "outputs": [],
   "source": []
  }
 ],
 "metadata": {
  "kernelspec": {
   "display_name": "C++17",
   "language": "C++17",
   "name": "xcpp17"
  },
  "language_info": {
   "codemirror_mode": "text/x-c++src",
   "file_extension": ".cpp",
   "mimetype": "text/x-c++src",
   "name": "c++",
   "version": "17"
  }
 },
 "nbformat": 4,
 "nbformat_minor": 5
}
