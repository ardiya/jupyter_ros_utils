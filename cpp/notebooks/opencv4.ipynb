{
 "cells": [
  {
   "cell_type": "markdown",
   "id": "ae700194-6fba-40a5-8e80-d73be6c0260d",
   "metadata": {},
   "source": [
    "**OpenCV4 is the version in 20.04**\n",
    "\n",
    "If you use Ubuntu 18.04, you need to change it to opencv3.\n",
    "Unfortunately the OpenCV's pkg-config isn't configured properly, e.g. it's outputing `-I/usr/include/opencv` instead of `-I/usr/include/` and it causes weird behavior"
   ]
  },
  {
   "cell_type": "code",
   "execution_count": null,
   "id": "abb511fb",
   "metadata": {},
   "outputs": [],
   "source": [
    "! ../scripts/generate_cling_3rd_party.py opencv4"
   ]
  },
  {
   "cell_type": "code",
   "execution_count": null,
   "id": "20d68b46",
   "metadata": {},
   "outputs": [],
   "source": [
    "#include \"load_opencv4.h\""
   ]
  },
  {
   "cell_type": "code",
   "execution_count": null,
   "id": "acc0e73c",
   "metadata": {},
   "outputs": [],
   "source": [
    "#include <opencv2/opencv.hpp>\n",
    "\n",
    "cv::Mat mat1(255, 255, CV_8UC3);\n",
    "cv::Mat mat2;\n",
    "mat1.copyTo(mat2);"
   ]
  }
 ],
 "metadata": {
  "kernelspec": {
   "display_name": "C++17",
   "language": "C++17",
   "name": "xcpp17"
  },
  "language_info": {
   "codemirror_mode": "text/x-c++src",
   "file_extension": ".cpp",
   "mimetype": "text/x-c++src",
   "name": "c++",
   "version": "17"
  }
 },
 "nbformat": 4,
 "nbformat_minor": 5
}
