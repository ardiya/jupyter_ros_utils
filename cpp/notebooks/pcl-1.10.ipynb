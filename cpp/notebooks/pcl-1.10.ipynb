{
 "cells": [
  {
   "cell_type": "markdown",
   "id": "30ace377",
   "metadata": {},
   "source": [
    "### For Ubuntu 20.04"
   ]
  },
  {
   "cell_type": "code",
   "execution_count": null,
   "id": "11057ae0",
   "metadata": {},
   "outputs": [],
   "source": [
    "! ../scripts/generate_cling_3rd_party.py eigen3"
   ]
  },
  {
   "cell_type": "code",
   "execution_count": null,
   "id": "5a42e22b",
   "metadata": {},
   "outputs": [],
   "source": [
    "! ../scripts/generate_cling_3rd_party.py pcl_common-1.10"
   ]
  },
  {
   "cell_type": "code",
   "execution_count": null,
   "id": "e56fdcac",
   "metadata": {},
   "outputs": [],
   "source": [
    "#include \"load_eigen3.h\"\n",
    "#include \"load_pcl_common-1.10.h\""
   ]
  },
  {
   "cell_type": "code",
   "execution_count": null,
   "id": "60169e66",
   "metadata": {},
   "outputs": [],
   "source": [
    "#include <pcl/point_cloud.h>\n",
    "#include <pcl/point_types.h>\n",
    "\n",
    "pcl::PointXYZ pt;\n",
    "pt.x = 1.0;\n",
    "pt.y = 2.0;\n",
    "pt.z = 3.0;\n",
    "\n",
    "pcl::PointCloud<pcl::PointXYZ> pc;\n",
    "pc.push_back(pt);"
   ]
  }
 ],
 "metadata": {
  "kernelspec": {
   "display_name": "C++17",
   "language": "C++17",
   "name": "xcpp17"
  },
  "language_info": {
   "codemirror_mode": "text/x-c++src",
   "file_extension": ".cpp",
   "mimetype": "text/x-c++src",
   "name": "c++",
   "version": "17"
  }
 },
 "nbformat": 4,
 "nbformat_minor": 5
}
